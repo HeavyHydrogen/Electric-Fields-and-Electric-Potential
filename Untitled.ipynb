{
 "cells": [
  {
   "cell_type": "code",
   "execution_count": 136,
   "id": "7491202f",
   "metadata": {},
   "outputs": [],
   "source": [
    "# importing the required module\n",
    "import matplotlib.pyplot as plt\n",
    "import numpy as np\n",
    "import math"
   ]
  },
  {
   "cell_type": "code",
   "execution_count": 135,
   "id": "0a5b29cc",
   "metadata": {
    "scrolled": true
   },
   "outputs": [
    {
     "name": "stdout",
     "output_type": "stream",
     "text": [
      "The parameters of the line: [-0.80151925  1.45357034]\n",
      "Line of best fit: y = -0.802x + 1.454\n"
     ]
    },
    {
     "data": {
      "image/png": "[encoded data removed]",
      "text/plain": [
       "<Figure size 432x288 with 1 Axes>"
      ]
     },
     "metadata": {
      "needs_background": "light"
     },
     "output_type": "display_data"
    }
   ],
   "source": [
    "E_r = np.array([30,42,48,42,50,62,54,76,74,124,60,176,218], dtype=np.float64)\n",
    "r_mid = np.array([0.0675,0.0625,0.0575,0.0525,0.0475,0.0425,0.0375,0.0325,0.0275,0.0225,0.0175,0.0125,0.0075], dtype=np.float64)\n",
    "\n",
    "E_0 = 1\n",
    "r_0 = 1\n",
    "\n",
    "x = [np.log(x / r_0) for x in r_mid]\n",
    "y = [np.log(y / E_0) for y in E_r]\n",
    "\n",
    "# plotting the points\n",
    "plt.scatter(x, y)\n",
    "\n",
    "# naming the x axis\n",
    "plt.xlabel('ln(r_mid / r_0)', fontweight='bold')\n",
    "# naming the y axis\n",
    "plt.ylabel('ln(E(r) / E_0)', fontweight='bold')\n",
    "\n",
    "# giving a title to my graph\n",
    "plt.title('Electric Field vs. Radius', fontweight='bold')\n",
    "\n",
    "# line of best fit\n",
    "#-------------------------------------------------\n",
    "\n",
    "# I could not figure out how to graph line of best fit\n",
    "# because the array (x) could not be multiplied by a non-int value (error).\n",
    "\n",
    "n = np.polyfit(x, y, 1)\n",
    "\n",
    "print(f'The parameters of the line: {n}') \n",
    "\n",
    "# function to show the plot\n",
    "#-------------------------------------------------\n",
    "\n",
    "print(f'Line of best fit: y = {round(n[0],3)}x + {round(n[1], 3)}')\n",
    "plt.show()"
   ]
  },
  {
   "cell_type": "code",
   "execution_count": null,
   "id": "c64a4d17",
   "metadata": {},
   "outputs": [],
   "source": []
  }
 ],
 "metadata": {
  "kernelspec": {
   "display_name": "Python 3 (ipykernel)",
   "language": "python",
   "name": "python3"
  },
  "language_info": {
   "codemirror_mode": {
    "name": "ipython",
    "version": 3
   },
   "file_extension": ".py",
   "mimetype": "text/x-python",
   "name": "python",
   "nbconvert_exporter": "python",
   "pygments_lexer": "ipython3",
   "version": "3.9.7"
  }
 },
 "nbformat": 4,
 "nbformat_minor": 5
}
